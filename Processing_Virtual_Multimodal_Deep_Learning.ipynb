{
 "cells": [
  {
   "cell_type": "code",
   "execution_count": 1,
   "id": "8e04d2f4",
   "metadata": {},
   "outputs": [
    {
     "name": "stderr",
     "output_type": "stream",
     "text": [
      "/Users/fayyaanyatasia/anaconda3/envs/deeplearning/lib/python3.8/site-packages/tqdm/auto.py:22: TqdmWarning: IProgress not found. Please update jupyter and ipywidgets. See https://ipywidgets.readthedocs.io/en/stable/user_install.html\n",
      "  from .autonotebook import tqdm as notebook_tqdm\n"
     ]
    }
   ],
   "source": [
    "%matplotlib inline\n",
    "\n",
    "import warnings\n",
    "import itertools    \n",
    "import numpy as np\n",
    "import pandas as pd\n",
    "import matplotlib.pyplot as plt\n",
    "import seaborn as sns\n",
    "import pandas_profiling as pp"
   ]
  },
  {
   "cell_type": "code",
   "execution_count": 14,
   "id": "684e4602",
   "metadata": {},
   "outputs": [
    {
     "name": "stdout",
     "output_type": "stream",
     "text": [
      "['/Users/fayyaanyatasia/anaconda3/envs/deeplearning/lib/python3.8/site-packages/numpy']\n"
     ]
    }
   ],
   "source": [
    "print(np.__path__)"
   ]
  },
  {
   "cell_type": "code",
   "execution_count": 3,
   "id": "96932a72",
   "metadata": {},
   "outputs": [
    {
     "data": {
      "text/plain": [
       "(1584, 134)"
      ]
     },
     "execution_count": 3,
     "metadata": {},
     "output_type": "execute_result"
    }
   ],
   "source": [
    "df = pd.read_csv(\"clean_data.csv\")\n",
    "df.shape"
   ]
  },
  {
   "cell_type": "code",
   "execution_count": 4,
   "id": "c2858ebf",
   "metadata": {},
   "outputs": [
    {
     "data": {
      "text/html": [
       "<div>\n",
       "<style scoped>\n",
       "    .dataframe tbody tr th:only-of-type {\n",
       "        vertical-align: middle;\n",
       "    }\n",
       "\n",
       "    .dataframe tbody tr th {\n",
       "        vertical-align: top;\n",
       "    }\n",
       "\n",
       "    .dataframe thead th {\n",
       "        text-align: right;\n",
       "    }\n",
       "</style>\n",
       "<table border=\"1\" class=\"dataframe\">\n",
       "  <thead>\n",
       "    <tr style=\"text-align: right;\">\n",
       "      <th></th>\n",
       "      <th>Time</th>\n",
       "      <th>Time.1</th>\n",
       "      <th>EOG</th>\n",
       "      <th>EOG.1</th>\n",
       "      <th>EOG.2</th>\n",
       "      <th>EOG.3</th>\n",
       "      <th>ACC</th>\n",
       "      <th>ACC.1</th>\n",
       "      <th>EDA</th>\n",
       "      <th>EDA.1</th>\n",
       "      <th>...</th>\n",
       "      <th>EEGConn.52</th>\n",
       "      <th>EEGConn.53</th>\n",
       "      <th>EEGConn.54</th>\n",
       "      <th>EEGConn.55</th>\n",
       "      <th>EEGConn.56</th>\n",
       "      <th>EEGConn.57</th>\n",
       "      <th>EEGConn.58</th>\n",
       "      <th>EEGConn.59</th>\n",
       "      <th>Type</th>\n",
       "      <th>Valence</th>\n",
       "    </tr>\n",
       "  </thead>\n",
       "  <tbody>\n",
       "    <tr>\n",
       "      <th>0</th>\n",
       "      <td>279.0</td>\n",
       "      <td>283.0</td>\n",
       "      <td>0.03501</td>\n",
       "      <td>0.18852</td>\n",
       "      <td>528.30090</td>\n",
       "      <td>1653.59465</td>\n",
       "      <td>0.08911</td>\n",
       "      <td>6520.83036</td>\n",
       "      <td>0.0</td>\n",
       "      <td>0.00030</td>\n",
       "      <td>...</td>\n",
       "      <td>0.42665</td>\n",
       "      <td>0.60355</td>\n",
       "      <td>0.14867</td>\n",
       "      <td>0.04928</td>\n",
       "      <td>0.02832</td>\n",
       "      <td>0.07146</td>\n",
       "      <td>0.15614</td>\n",
       "      <td>0.34833</td>\n",
       "      <td>Training</td>\n",
       "      <td>Positive</td>\n",
       "    </tr>\n",
       "    <tr>\n",
       "      <th>1</th>\n",
       "      <td>280.0</td>\n",
       "      <td>284.0</td>\n",
       "      <td>0.03269</td>\n",
       "      <td>0.18852</td>\n",
       "      <td>530.00618</td>\n",
       "      <td>1663.87925</td>\n",
       "      <td>0.07023</td>\n",
       "      <td>6531.95043</td>\n",
       "      <td>0.0</td>\n",
       "      <td>0.00003</td>\n",
       "      <td>...</td>\n",
       "      <td>0.15314</td>\n",
       "      <td>0.03407</td>\n",
       "      <td>0.04494</td>\n",
       "      <td>0.37336</td>\n",
       "      <td>0.33283</td>\n",
       "      <td>0.19793</td>\n",
       "      <td>0.03080</td>\n",
       "      <td>0.34791</td>\n",
       "      <td>Training</td>\n",
       "      <td>Positive</td>\n",
       "    </tr>\n",
       "    <tr>\n",
       "      <th>2</th>\n",
       "      <td>281.0</td>\n",
       "      <td>285.0</td>\n",
       "      <td>0.03522</td>\n",
       "      <td>0.16972</td>\n",
       "      <td>527.78995</td>\n",
       "      <td>1650.26793</td>\n",
       "      <td>0.03413</td>\n",
       "      <td>6524.41338</td>\n",
       "      <td>0.0</td>\n",
       "      <td>0.00001</td>\n",
       "      <td>...</td>\n",
       "      <td>0.03363</td>\n",
       "      <td>0.02157</td>\n",
       "      <td>0.21674</td>\n",
       "      <td>0.26975</td>\n",
       "      <td>0.10365</td>\n",
       "      <td>0.19533</td>\n",
       "      <td>0.11734</td>\n",
       "      <td>0.49382</td>\n",
       "      <td>Training</td>\n",
       "      <td>Positive</td>\n",
       "    </tr>\n",
       "    <tr>\n",
       "      <th>3</th>\n",
       "      <td>282.0</td>\n",
       "      <td>286.0</td>\n",
       "      <td>0.03522</td>\n",
       "      <td>0.16972</td>\n",
       "      <td>527.84376</td>\n",
       "      <td>1645.88954</td>\n",
       "      <td>0.02725</td>\n",
       "      <td>6522.16183</td>\n",
       "      <td>0.0</td>\n",
       "      <td>0.00004</td>\n",
       "      <td>...</td>\n",
       "      <td>0.01636</td>\n",
       "      <td>0.01908</td>\n",
       "      <td>0.11374</td>\n",
       "      <td>0.32255</td>\n",
       "      <td>0.11144</td>\n",
       "      <td>0.19649</td>\n",
       "      <td>0.02880</td>\n",
       "      <td>0.43887</td>\n",
       "      <td>Training</td>\n",
       "      <td>Positive</td>\n",
       "    </tr>\n",
       "    <tr>\n",
       "      <th>4</th>\n",
       "      <td>283.0</td>\n",
       "      <td>287.0</td>\n",
       "      <td>0.03608</td>\n",
       "      <td>0.16972</td>\n",
       "      <td>530.29163</td>\n",
       "      <td>1653.78549</td>\n",
       "      <td>0.02725</td>\n",
       "      <td>6520.32162</td>\n",
       "      <td>0.0</td>\n",
       "      <td>0.00003</td>\n",
       "      <td>...</td>\n",
       "      <td>0.00954</td>\n",
       "      <td>0.00278</td>\n",
       "      <td>0.13529</td>\n",
       "      <td>0.37243</td>\n",
       "      <td>0.11986</td>\n",
       "      <td>0.09740</td>\n",
       "      <td>0.04926</td>\n",
       "      <td>0.51518</td>\n",
       "      <td>Training</td>\n",
       "      <td>Positive</td>\n",
       "    </tr>\n",
       "  </tbody>\n",
       "</table>\n",
       "<p>5 rows × 134 columns</p>\n",
       "</div>"
      ],
      "text/plain": [
       "    Time  Time.1      EOG    EOG.1      EOG.2       EOG.3      ACC  \\\n",
       "0  279.0   283.0  0.03501  0.18852  528.30090  1653.59465  0.08911   \n",
       "1  280.0   284.0  0.03269  0.18852  530.00618  1663.87925  0.07023   \n",
       "2  281.0   285.0  0.03522  0.16972  527.78995  1650.26793  0.03413   \n",
       "3  282.0   286.0  0.03522  0.16972  527.84376  1645.88954  0.02725   \n",
       "4  283.0   287.0  0.03608  0.16972  530.29163  1653.78549  0.02725   \n",
       "\n",
       "        ACC.1  EDA    EDA.1  ...  EEGConn.52  EEGConn.53  EEGConn.54  \\\n",
       "0  6520.83036  0.0  0.00030  ...     0.42665     0.60355     0.14867   \n",
       "1  6531.95043  0.0  0.00003  ...     0.15314     0.03407     0.04494   \n",
       "2  6524.41338  0.0  0.00001  ...     0.03363     0.02157     0.21674   \n",
       "3  6522.16183  0.0  0.00004  ...     0.01636     0.01908     0.11374   \n",
       "4  6520.32162  0.0  0.00003  ...     0.00954     0.00278     0.13529   \n",
       "\n",
       "   EEGConn.55  EEGConn.56  EEGConn.57  EEGConn.58  EEGConn.59      Type  \\\n",
       "0     0.04928     0.02832     0.07146     0.15614     0.34833  Training   \n",
       "1     0.37336     0.33283     0.19793     0.03080     0.34791  Training   \n",
       "2     0.26975     0.10365     0.19533     0.11734     0.49382  Training   \n",
       "3     0.32255     0.11144     0.19649     0.02880     0.43887  Training   \n",
       "4     0.37243     0.11986     0.09740     0.04926     0.51518  Training   \n",
       "\n",
       "    Valence  \n",
       "0  Positive  \n",
       "1  Positive  \n",
       "2  Positive  \n",
       "3  Positive  \n",
       "4  Positive  \n",
       "\n",
       "[5 rows x 134 columns]"
      ]
     },
     "execution_count": 4,
     "metadata": {},
     "output_type": "execute_result"
    }
   ],
   "source": [
    "df.head()"
   ]
  },
  {
   "cell_type": "code",
   "execution_count": 5,
   "id": "8ab59687",
   "metadata": {},
   "outputs": [
    {
     "name": "stdout",
     "output_type": "stream",
     "text": [
      "Training Positive: 168\n",
      "Training Negative: 168\n",
      "Testing Positive: 624\n",
      "Testing Negative: 624\n"
     ]
    }
   ],
   "source": [
    "# Distribution of label\n",
    "\n",
    "print('Training Positive:', len(df[(df['Type'] == 'Training') & (df['Valence'] == 'Positive')]))\n",
    "print('Training Negative:', len(df[(df['Type'] == 'Training') & (df['Valence'] == 'Negative')]))\n",
    "print('Testing Positive:', len(df[(df['Type'] == 'Testing') & (df['Valence'] == 'Positive')]))\n",
    "print('Testing Negative:', len(df[(df['Type'] == 'Testing') & (df['Valence'] == 'Negative')]))"
   ]
  },
  {
   "cell_type": "code",
   "execution_count": 33,
   "id": "0026fbfd",
   "metadata": {},
   "outputs": [],
   "source": [
    "from sklearn.preprocessing import LabelEncoder, StandardScaler\n",
    "from sklearn.model_selection import train_test_split\n",
    "from sklearn.metrics import classification_report, confusion_matrix"
   ]
  },
  {
   "cell_type": "code",
   "execution_count": 7,
   "id": "ce67c468",
   "metadata": {},
   "outputs": [
    {
     "data": {
      "text/html": [
       "<div>\n",
       "<style scoped>\n",
       "    .dataframe tbody tr th:only-of-type {\n",
       "        vertical-align: middle;\n",
       "    }\n",
       "\n",
       "    .dataframe tbody tr th {\n",
       "        vertical-align: top;\n",
       "    }\n",
       "\n",
       "    .dataframe thead th {\n",
       "        text-align: right;\n",
       "    }\n",
       "</style>\n",
       "<table border=\"1\" class=\"dataframe\">\n",
       "  <thead>\n",
       "    <tr style=\"text-align: right;\">\n",
       "      <th></th>\n",
       "      <th>Time</th>\n",
       "      <th>Time.1</th>\n",
       "      <th>EOG</th>\n",
       "      <th>EOG.1</th>\n",
       "      <th>EOG.2</th>\n",
       "      <th>EOG.3</th>\n",
       "      <th>ACC</th>\n",
       "      <th>ACC.1</th>\n",
       "      <th>EDA</th>\n",
       "      <th>EDA.1</th>\n",
       "      <th>...</th>\n",
       "      <th>EEGConn.52</th>\n",
       "      <th>EEGConn.53</th>\n",
       "      <th>EEGConn.54</th>\n",
       "      <th>EEGConn.55</th>\n",
       "      <th>EEGConn.56</th>\n",
       "      <th>EEGConn.57</th>\n",
       "      <th>EEGConn.58</th>\n",
       "      <th>EEGConn.59</th>\n",
       "      <th>Type</th>\n",
       "      <th>Valence</th>\n",
       "    </tr>\n",
       "  </thead>\n",
       "  <tbody>\n",
       "    <tr>\n",
       "      <th>0</th>\n",
       "      <td>279.0</td>\n",
       "      <td>283.0</td>\n",
       "      <td>0.03501</td>\n",
       "      <td>0.18852</td>\n",
       "      <td>528.30090</td>\n",
       "      <td>1653.59465</td>\n",
       "      <td>0.08911</td>\n",
       "      <td>6520.83036</td>\n",
       "      <td>0.0</td>\n",
       "      <td>0.00030</td>\n",
       "      <td>...</td>\n",
       "      <td>0.42665</td>\n",
       "      <td>0.60355</td>\n",
       "      <td>0.14867</td>\n",
       "      <td>0.04928</td>\n",
       "      <td>0.02832</td>\n",
       "      <td>0.07146</td>\n",
       "      <td>0.15614</td>\n",
       "      <td>0.34833</td>\n",
       "      <td>Training</td>\n",
       "      <td>1</td>\n",
       "    </tr>\n",
       "    <tr>\n",
       "      <th>1</th>\n",
       "      <td>280.0</td>\n",
       "      <td>284.0</td>\n",
       "      <td>0.03269</td>\n",
       "      <td>0.18852</td>\n",
       "      <td>530.00618</td>\n",
       "      <td>1663.87925</td>\n",
       "      <td>0.07023</td>\n",
       "      <td>6531.95043</td>\n",
       "      <td>0.0</td>\n",
       "      <td>0.00003</td>\n",
       "      <td>...</td>\n",
       "      <td>0.15314</td>\n",
       "      <td>0.03407</td>\n",
       "      <td>0.04494</td>\n",
       "      <td>0.37336</td>\n",
       "      <td>0.33283</td>\n",
       "      <td>0.19793</td>\n",
       "      <td>0.03080</td>\n",
       "      <td>0.34791</td>\n",
       "      <td>Training</td>\n",
       "      <td>1</td>\n",
       "    </tr>\n",
       "    <tr>\n",
       "      <th>2</th>\n",
       "      <td>281.0</td>\n",
       "      <td>285.0</td>\n",
       "      <td>0.03522</td>\n",
       "      <td>0.16972</td>\n",
       "      <td>527.78995</td>\n",
       "      <td>1650.26793</td>\n",
       "      <td>0.03413</td>\n",
       "      <td>6524.41338</td>\n",
       "      <td>0.0</td>\n",
       "      <td>0.00001</td>\n",
       "      <td>...</td>\n",
       "      <td>0.03363</td>\n",
       "      <td>0.02157</td>\n",
       "      <td>0.21674</td>\n",
       "      <td>0.26975</td>\n",
       "      <td>0.10365</td>\n",
       "      <td>0.19533</td>\n",
       "      <td>0.11734</td>\n",
       "      <td>0.49382</td>\n",
       "      <td>Training</td>\n",
       "      <td>1</td>\n",
       "    </tr>\n",
       "    <tr>\n",
       "      <th>3</th>\n",
       "      <td>282.0</td>\n",
       "      <td>286.0</td>\n",
       "      <td>0.03522</td>\n",
       "      <td>0.16972</td>\n",
       "      <td>527.84376</td>\n",
       "      <td>1645.88954</td>\n",
       "      <td>0.02725</td>\n",
       "      <td>6522.16183</td>\n",
       "      <td>0.0</td>\n",
       "      <td>0.00004</td>\n",
       "      <td>...</td>\n",
       "      <td>0.01636</td>\n",
       "      <td>0.01908</td>\n",
       "      <td>0.11374</td>\n",
       "      <td>0.32255</td>\n",
       "      <td>0.11144</td>\n",
       "      <td>0.19649</td>\n",
       "      <td>0.02880</td>\n",
       "      <td>0.43887</td>\n",
       "      <td>Training</td>\n",
       "      <td>1</td>\n",
       "    </tr>\n",
       "    <tr>\n",
       "      <th>4</th>\n",
       "      <td>283.0</td>\n",
       "      <td>287.0</td>\n",
       "      <td>0.03608</td>\n",
       "      <td>0.16972</td>\n",
       "      <td>530.29163</td>\n",
       "      <td>1653.78549</td>\n",
       "      <td>0.02725</td>\n",
       "      <td>6520.32162</td>\n",
       "      <td>0.0</td>\n",
       "      <td>0.00003</td>\n",
       "      <td>...</td>\n",
       "      <td>0.00954</td>\n",
       "      <td>0.00278</td>\n",
       "      <td>0.13529</td>\n",
       "      <td>0.37243</td>\n",
       "      <td>0.11986</td>\n",
       "      <td>0.09740</td>\n",
       "      <td>0.04926</td>\n",
       "      <td>0.51518</td>\n",
       "      <td>Training</td>\n",
       "      <td>1</td>\n",
       "    </tr>\n",
       "  </tbody>\n",
       "</table>\n",
       "<p>5 rows × 134 columns</p>\n",
       "</div>"
      ],
      "text/plain": [
       "    Time  Time.1      EOG    EOG.1      EOG.2       EOG.3      ACC  \\\n",
       "0  279.0   283.0  0.03501  0.18852  528.30090  1653.59465  0.08911   \n",
       "1  280.0   284.0  0.03269  0.18852  530.00618  1663.87925  0.07023   \n",
       "2  281.0   285.0  0.03522  0.16972  527.78995  1650.26793  0.03413   \n",
       "3  282.0   286.0  0.03522  0.16972  527.84376  1645.88954  0.02725   \n",
       "4  283.0   287.0  0.03608  0.16972  530.29163  1653.78549  0.02725   \n",
       "\n",
       "        ACC.1  EDA    EDA.1  ...  EEGConn.52  EEGConn.53  EEGConn.54  \\\n",
       "0  6520.83036  0.0  0.00030  ...     0.42665     0.60355     0.14867   \n",
       "1  6531.95043  0.0  0.00003  ...     0.15314     0.03407     0.04494   \n",
       "2  6524.41338  0.0  0.00001  ...     0.03363     0.02157     0.21674   \n",
       "3  6522.16183  0.0  0.00004  ...     0.01636     0.01908     0.11374   \n",
       "4  6520.32162  0.0  0.00003  ...     0.00954     0.00278     0.13529   \n",
       "\n",
       "   EEGConn.55  EEGConn.56  EEGConn.57  EEGConn.58  EEGConn.59      Type  \\\n",
       "0     0.04928     0.02832     0.07146     0.15614     0.34833  Training   \n",
       "1     0.37336     0.33283     0.19793     0.03080     0.34791  Training   \n",
       "2     0.26975     0.10365     0.19533     0.11734     0.49382  Training   \n",
       "3     0.32255     0.11144     0.19649     0.02880     0.43887  Training   \n",
       "4     0.37243     0.11986     0.09740     0.04926     0.51518  Training   \n",
       "\n",
       "   Valence  \n",
       "0        1  \n",
       "1        1  \n",
       "2        1  \n",
       "3        1  \n",
       "4        1  \n",
       "\n",
       "[5 rows x 134 columns]"
      ]
     },
     "execution_count": 7,
     "metadata": {},
     "output_type": "execute_result"
    }
   ],
   "source": [
    "le = LabelEncoder()\n",
    "df['Valence'] = le.fit_transform(df['Valence'])\n",
    "df.head()"
   ]
  },
  {
   "cell_type": "code",
   "execution_count": 71,
   "id": "a55dbbf0",
   "metadata": {},
   "outputs": [],
   "source": [
    "train_data = df[df['Type'] == 'Training']\n",
    "test_data = df[df['Type'] == 'Testing']"
   ]
  },
  {
   "cell_type": "code",
   "execution_count": 72,
   "id": "d2e7aa8b",
   "metadata": {},
   "outputs": [],
   "source": [
    "train_data_X = train_data.loc[:, ~train_data.columns.isin(['Type', 'Valence', 'Time', 'Time.1'])]\n",
    "train_data_y = train_data.loc[:, 'Valence']\n",
    "\n",
    "test_data_X = test_data.loc[:, ~test_data.columns.isin(['Type', 'Valence', 'Time', 'Time.1'])]\n",
    "test_data_y = test_data.loc[:, 'Valence']"
   ]
  },
  {
   "cell_type": "code",
   "execution_count": 73,
   "id": "3a5d2879",
   "metadata": {},
   "outputs": [
    {
     "data": {
      "text/plain": [
       "(336, 130)"
      ]
     },
     "execution_count": 73,
     "metadata": {},
     "output_type": "execute_result"
    }
   ],
   "source": [
    "train_data_X.shape"
   ]
  },
  {
   "cell_type": "code",
   "execution_count": 74,
   "id": "7a273072",
   "metadata": {},
   "outputs": [],
   "source": [
    "# positive = 1, negative = 0\n",
    "\n",
    "X_train = np.array(train_data_X).reshape((train_data_X.shape[0],train_data_X.shape[1],1))\n",
    "X_test = np.array(test_data_X).reshape((test_data_X.shape[0],test_data_X.shape[1],1))\n",
    "\n",
    "y_train = pd.get_dummies(train_data_y)\n",
    "y_test = pd.get_dummies(test_data_y)"
   ]
  },
  {
   "cell_type": "markdown",
   "id": "81b09982",
   "metadata": {},
   "source": [
    "## GRU"
   ]
  },
  {
   "cell_type": "code",
   "execution_count": 11,
   "id": "1811a2ae",
   "metadata": {},
   "outputs": [],
   "source": [
    "import tensorflow as tf"
   ]
  },
  {
   "cell_type": "code",
   "execution_count": 12,
   "id": "caadb3fd",
   "metadata": {},
   "outputs": [],
   "source": [
    "from tensorflow.keras.wrappers.scikit_learn import KerasClassifier\n",
    "from tensorflow.keras.layers import Dense, Flatten, LSTM, Input, Dropout, BatchNormalization, GRU\n",
    "from tensorflow.keras import Model\n",
    "from tensorflow.keras.models import load_model\n",
    "from tensorflow.keras.callbacks import EarlyStopping, LearningRateScheduler, ModelCheckpoint\n",
    "from tensorflow.keras.optimizers import Adam"
   ]
  },
  {
   "cell_type": "code",
   "execution_count": 75,
   "id": "16668e53",
   "metadata": {},
   "outputs": [
    {
     "name": "stdout",
     "output_type": "stream",
     "text": [
      "Model: \"model_6\"\n",
      "_________________________________________________________________\n",
      " Layer (type)                Output Shape              Param #   \n",
      "=================================================================\n",
      " input_7 (InputLayer)        [(None, 130, 1)]          0         \n",
      "                                                                 \n",
      " gru_3 (GRU)                 (None, 130, 256)          198912    \n",
      "                                                                 \n",
      " flatten_6 (Flatten)         (None, 33280)             0         \n",
      "                                                                 \n",
      " dense_6 (Dense)             (None, 2)                 66562     \n",
      "                                                                 \n",
      "=================================================================\n",
      "Total params: 265,474\n",
      "Trainable params: 265,474\n",
      "Non-trainable params: 0\n",
      "_________________________________________________________________\n"
     ]
    }
   ],
   "source": [
    "inputs = Input(shape=(X_train.shape[1],1))\n",
    "\n",
    "gru = GRU(256, return_sequences=True)(inputs)\n",
    "flat = Flatten()(gru)\n",
    "outputs = Dense(2, activation='softmax')(flat)\n",
    "\n",
    "model_gru = Model(inputs, outputs)\n",
    "\n",
    "model_gru.summary()"
   ]
  },
  {
   "cell_type": "code",
   "execution_count": 76,
   "id": "ea1c385c",
   "metadata": {},
   "outputs": [],
   "source": [
    "def train_model(model,x_train,y_train,x_test,y_test, save_to, epoch = 2):\n",
    "\n",
    "        opt_adam = Adam(learning_rate=0.001)\n",
    "\n",
    "        es = EarlyStopping(monitor='val_loss', mode='min', verbose=1, patience=10)\n",
    "        mc = ModelCheckpoint(save_to + '_best_model.h5', monitor='val_accuracy', mode='max', verbose=1, save_best_only=True)\n",
    "        lr_schedule = tf.keras.callbacks.LearningRateScheduler(lambda epoch: 0.001 * np.exp(-epoch / 10.))\n",
    "        \n",
    "        model.compile(optimizer=opt_adam,\n",
    "                  loss=['binary_crossentropy'],\n",
    "                  metrics=['accuracy'])\n",
    "        \n",
    "        history = model.fit(x_train,y_train,\n",
    "                        batch_size=32,\n",
    "                        epochs=epoch,\n",
    "                        validation_data=(x_test,y_test),\n",
    "                        callbacks=[es,mc,lr_schedule])\n",
    "        \n",
    "        saved_model = load_model(save_to + '_best_model.h5')\n",
    "        \n",
    "        return model,history"
   ]
  },
  {
   "cell_type": "code",
   "execution_count": 77,
   "id": "2ee10729",
   "metadata": {},
   "outputs": [
    {
     "name": "stdout",
     "output_type": "stream",
     "text": [
      "Epoch 1/50\n"
     ]
    },
    {
     "name": "stderr",
     "output_type": "stream",
     "text": [
      "2022-11-08 20:17:39.223381: I tensorflow/core/grappler/optimizers/custom_graph_optimizer_registry.cc:114] Plugin optimizer for device_type GPU is enabled.\n",
      "2022-11-08 20:17:39.310643: I tensorflow/core/grappler/optimizers/custom_graph_optimizer_registry.cc:114] Plugin optimizer for device_type GPU is enabled.\n",
      "2022-11-08 20:17:39.966426: I tensorflow/core/grappler/optimizers/custom_graph_optimizer_registry.cc:114] Plugin optimizer for device_type GPU is enabled.\n"
     ]
    },
    {
     "name": "stdout",
     "output_type": "stream",
     "text": [
      "11/11 [==============================] - ETA: 0s - loss: 0.9951 - accuracy: 0.4851"
     ]
    },
    {
     "name": "stderr",
     "output_type": "stream",
     "text": [
      "2022-11-08 20:17:41.505458: I tensorflow/core/grappler/optimizers/custom_graph_optimizer_registry.cc:114] Plugin optimizer for device_type GPU is enabled.\n",
      "2022-11-08 20:17:41.541046: I tensorflow/core/grappler/optimizers/custom_graph_optimizer_registry.cc:114] Plugin optimizer for device_type GPU is enabled.\n"
     ]
    },
    {
     "name": "stdout",
     "output_type": "stream",
     "text": [
      "\n",
      "Epoch 1: val_accuracy improved from -inf to 0.50000, saving model to ./_best_model.h5\n",
      "11/11 [==============================] - 4s 211ms/step - loss: 0.9951 - accuracy: 0.4851 - val_loss: 0.9724 - val_accuracy: 0.5000 - lr: 0.0010\n",
      "Epoch 2/50\n",
      "11/11 [==============================] - ETA: 0s - loss: 0.7389 - accuracy: 0.5417\n",
      "Epoch 2: val_accuracy did not improve from 0.50000\n",
      "11/11 [==============================] - 1s 103ms/step - loss: 0.7389 - accuracy: 0.5417 - val_loss: 0.7252 - val_accuracy: 0.5000 - lr: 9.0484e-04\n",
      "Epoch 3/50\n",
      "11/11 [==============================] - ETA: 0s - loss: 0.6654 - accuracy: 0.5774\n",
      "Epoch 3: val_accuracy improved from 0.50000 to 0.52484, saving model to ./_best_model.h5\n",
      "11/11 [==============================] - 1s 106ms/step - loss: 0.6654 - accuracy: 0.5774 - val_loss: 0.6856 - val_accuracy: 0.5248 - lr: 8.1873e-04\n",
      "Epoch 4/50\n",
      "11/11 [==============================] - ETA: 0s - loss: 0.6520 - accuracy: 0.5476\n",
      "Epoch 4: val_accuracy improved from 0.52484 to 0.54968, saving model to ./_best_model.h5\n",
      "11/11 [==============================] - 1s 106ms/step - loss: 0.6520 - accuracy: 0.5476 - val_loss: 0.7011 - val_accuracy: 0.5497 - lr: 7.4082e-04\n",
      "Epoch 5/50\n",
      "11/11 [==============================] - ETA: 0s - loss: 0.6000 - accuracy: 0.6548\n",
      "Epoch 5: val_accuracy improved from 0.54968 to 0.62179, saving model to ./_best_model.h5\n",
      "11/11 [==============================] - 1s 105ms/step - loss: 0.6000 - accuracy: 0.6548 - val_loss: 0.6494 - val_accuracy: 0.6218 - lr: 6.7032e-04\n",
      "Epoch 6/50\n",
      "11/11 [==============================] - ETA: 0s - loss: 0.5631 - accuracy: 0.7649\n",
      "Epoch 6: val_accuracy did not improve from 0.62179\n",
      "11/11 [==============================] - 1s 104ms/step - loss: 0.5631 - accuracy: 0.7649 - val_loss: 0.6439 - val_accuracy: 0.6218 - lr: 6.0653e-04\n",
      "Epoch 7/50\n",
      "11/11 [==============================] - ETA: 0s - loss: 0.5260 - accuracy: 0.8452\n",
      "Epoch 7: val_accuracy did not improve from 0.62179\n",
      "11/11 [==============================] - 1s 104ms/step - loss: 0.5260 - accuracy: 0.8452 - val_loss: 0.6342 - val_accuracy: 0.6066 - lr: 5.4881e-04\n",
      "Epoch 8/50\n",
      "11/11 [==============================] - ETA: 0s - loss: 0.4910 - accuracy: 0.8780\n",
      "Epoch 8: val_accuracy did not improve from 0.62179\n",
      "11/11 [==============================] - 1s 103ms/step - loss: 0.4910 - accuracy: 0.8780 - val_loss: 0.6346 - val_accuracy: 0.6082 - lr: 4.9659e-04\n",
      "Epoch 9/50\n",
      "11/11 [==============================] - ETA: 0s - loss: 0.4601 - accuracy: 0.8780\n",
      "Epoch 9: val_accuracy did not improve from 0.62179\n",
      "11/11 [==============================] - 1s 103ms/step - loss: 0.4601 - accuracy: 0.8780 - val_loss: 0.6555 - val_accuracy: 0.5994 - lr: 4.4933e-04\n",
      "Epoch 10/50\n",
      "11/11 [==============================] - ETA: 0s - loss: 0.4331 - accuracy: 0.8601\n",
      "Epoch 10: val_accuracy did not improve from 0.62179\n",
      "11/11 [==============================] - 1s 105ms/step - loss: 0.4331 - accuracy: 0.8601 - val_loss: 0.6600 - val_accuracy: 0.6002 - lr: 4.0657e-04\n",
      "Epoch 11/50\n",
      "11/11 [==============================] - ETA: 0s - loss: 0.3991 - accuracy: 0.8750\n",
      "Epoch 11: val_accuracy did not improve from 0.62179\n",
      "11/11 [==============================] - 1s 104ms/step - loss: 0.3991 - accuracy: 0.8750 - val_loss: 0.6749 - val_accuracy: 0.6018 - lr: 3.6788e-04\n",
      "Epoch 12/50\n",
      "11/11 [==============================] - ETA: 0s - loss: 0.3769 - accuracy: 0.8720\n",
      "Epoch 12: val_accuracy improved from 0.62179 to 0.62981, saving model to ./_best_model.h5\n",
      "11/11 [==============================] - 1s 106ms/step - loss: 0.3769 - accuracy: 0.8720 - val_loss: 0.7015 - val_accuracy: 0.6298 - lr: 3.3287e-04\n",
      "Epoch 13/50\n",
      "11/11 [==============================] - ETA: 0s - loss: 0.3604 - accuracy: 0.8720\n",
      "Epoch 13: val_accuracy did not improve from 0.62981\n",
      "11/11 [==============================] - 1s 103ms/step - loss: 0.3604 - accuracy: 0.8720 - val_loss: 0.7764 - val_accuracy: 0.6026 - lr: 3.0119e-04\n",
      "Epoch 14/50\n",
      "11/11 [==============================] - ETA: 0s - loss: 0.3342 - accuracy: 0.8690\n",
      "Epoch 14: val_accuracy did not improve from 0.62981\n",
      "11/11 [==============================] - 1s 104ms/step - loss: 0.3342 - accuracy: 0.8690 - val_loss: 0.7529 - val_accuracy: 0.6010 - lr: 2.7253e-04\n",
      "Epoch 15/50\n",
      "11/11 [==============================] - ETA: 0s - loss: 0.3156 - accuracy: 0.8899\n",
      "Epoch 15: val_accuracy did not improve from 0.62981\n",
      "11/11 [==============================] - 1s 104ms/step - loss: 0.3156 - accuracy: 0.8899 - val_loss: 0.7829 - val_accuracy: 0.6026 - lr: 2.4660e-04\n",
      "Epoch 16/50\n",
      "11/11 [==============================] - ETA: 0s - loss: 0.3062 - accuracy: 0.8958\n",
      "Epoch 16: val_accuracy did not improve from 0.62981\n",
      "11/11 [==============================] - 1s 104ms/step - loss: 0.3062 - accuracy: 0.8958 - val_loss: 0.8077 - val_accuracy: 0.6034 - lr: 2.2313e-04\n",
      "Epoch 17/50\n",
      "11/11 [==============================] - ETA: 0s - loss: 0.3016 - accuracy: 0.8720\n",
      "Epoch 17: val_accuracy did not improve from 0.62981\n",
      "11/11 [==============================] - 1s 105ms/step - loss: 0.3016 - accuracy: 0.8720 - val_loss: 0.8636 - val_accuracy: 0.6018 - lr: 2.0190e-04\n",
      "Epoch 17: early stopping\n"
     ]
    }
   ],
   "source": [
    "gru_model,gru_history = train_model(model_gru, X_train, y_train,X_test, y_test, save_to= './', epoch = 50)"
   ]
  },
  {
   "cell_type": "code",
   "execution_count": 78,
   "id": "460b2a7c",
   "metadata": {},
   "outputs": [],
   "source": [
    "def plot_model(history, model_name):\n",
    "    # summarize accuracy\n",
    "    plt.plot(history.history['accuracy'])\n",
    "    plt.plot(history.history['val_accuracy'])\n",
    "    plt.title(model_name + ' accuracy')\n",
    "    plt.ylabel('accuracy')\n",
    "    plt.xlabel('epoch')\n",
    "    plt.legend(['train', 'test'], loc='upper left')\n",
    "    plt.show()\n",
    "\n",
    "    # summarize history for loss\n",
    "    plt.plot(history.history['loss'])\n",
    "    plt.plot(history.history['val_loss'])\n",
    "    plt.title(model_name + ' loss')\n",
    "    plt.ylabel('loss')\n",
    "    plt.xlabel('epoch')\n",
    "    plt.legend(['train', 'test'], loc='upper left')\n",
    "    plt.show()"
   ]
  },
  {
   "cell_type": "code",
   "execution_count": 79,
   "id": "16ba1219",
   "metadata": {},
   "outputs": [
    {
     "data": {
      "image/png": "[encoded data removed]",
      "text/plain": [
       "<Figure size 432x288 with 1 Axes>"
      ]
     },
     "metadata": {
      "needs_background": "light"
     },
     "output_type": "display_data"
    },
    {
     "data": {
      "image/png": "[encoded data removed]",
      "text/plain": [
       "<Figure size 432x288 with 1 Axes>"
      ]
     },
     "metadata": {
      "needs_background": "light"
     },
     "output_type": "display_data"
    }
   ],
   "source": [
    "plot_model(gru_history, 'GRU')"
   ]
  },
  {
   "cell_type": "code",
   "execution_count": 80,
   "id": "1f1a29c3",
   "metadata": {},
   "outputs": [
    {
     "name": "stdout",
     "output_type": "stream",
     "text": [
      "Test Accuracy: 60.176%\n"
     ]
    }
   ],
   "source": [
    "model_gru_acc = model_gru.evaluate(X_test, y_test, verbose=0)[1]\n",
    "print(\"Test Accuracy: {:.3f}%\".format(model_gru_acc * 100))"
   ]
  },
  {
   "cell_type": "code",
   "execution_count": 61,
   "id": "a99929eb",
   "metadata": {},
   "outputs": [
    {
     "name": "stderr",
     "output_type": "stream",
     "text": [
      "2022-11-08 19:08:36.891507: I tensorflow/core/grappler/optimizers/custom_graph_optimizer_registry.cc:114] Plugin optimizer for device_type GPU is enabled.\n",
      "2022-11-08 19:08:36.916404: I tensorflow/core/grappler/optimizers/custom_graph_optimizer_registry.cc:114] Plugin optimizer for device_type GPU is enabled.\n"
     ]
    },
    {
     "name": "stdout",
     "output_type": "stream",
     "text": [
      "39/39 [==============================] - 1s 15ms/step\n"
     ]
    },
    {
     "data": {
      "image/png": "[encoded data removed]",
      "text/plain": [
       "<Figure size 576x576 with 1 Axes>"
      ]
     },
     "metadata": {
      "needs_background": "light"
     },
     "output_type": "display_data"
    },
    {
     "name": "stdout",
     "output_type": "stream",
     "text": [
      "Classification Report:\n",
      "----------------------\n",
      "               precision    recall  f1-score   support\n",
      "\n",
      "           0       0.65      0.45      0.53       624\n",
      "           1       0.58      0.76      0.66       624\n",
      "\n",
      "    accuracy                           0.60      1248\n",
      "   macro avg       0.61      0.60      0.59      1248\n",
      "weighted avg       0.61      0.60      0.59      1248\n",
      "\n"
     ]
    }
   ],
   "source": [
    "y_pred = np.array(list(map(lambda x: np.argmax(x), model_gru.predict(X_test))))\n",
    "y_test = y_test.idxmax(axis=1)\n",
    "\n",
    "cm = confusion_matrix(y_test, y_pred)\n",
    "clr = classification_report(y_test, y_pred)\n",
    "\n",
    "plt.figure(figsize=(8, 8))\n",
    "sns.heatmap(cm, annot=True, vmin=0, fmt='g', cbar=False, cmap='Blues')\n",
    "plt.xlabel(\"Predicted\")\n",
    "plt.ylabel(\"Actual\")\n",
    "plt.title(\"Confusion Matrix\")\n",
    "plt.show()\n",
    "\n",
    "print(\"Classification Report:\\n----------------------\\n\", clr)"
   ]
  },
  {
   "cell_type": "markdown",
   "id": "ee3aaddd",
   "metadata": {},
   "source": [
    "## LSTM"
   ]
  },
  {
   "cell_type": "code",
   "execution_count": 65,
   "id": "34fa3e9e",
   "metadata": {},
   "outputs": [
    {
     "data": {
      "text/plain": [
       "(1248, 2)"
      ]
     },
     "execution_count": 65,
     "metadata": {},
     "output_type": "execute_result"
    }
   ],
   "source": [
    "y_test.shape"
   ]
  },
  {
   "cell_type": "code",
   "execution_count": 57,
   "id": "cef339c4",
   "metadata": {},
   "outputs": [
    {
     "name": "stdout",
     "output_type": "stream",
     "text": [
      "Model: \"model_5\"\n",
      "_________________________________________________________________\n",
      " Layer (type)                Output Shape              Param #   \n",
      "=================================================================\n",
      " input_6 (InputLayer)        [(None, 130, 1)]          0         \n",
      "                                                                 \n",
      " lstm_2 (LSTM)               (None, 130, 256)          264192    \n",
      "                                                                 \n",
      " flatten_5 (Flatten)         (None, 33280)             0         \n",
      "                                                                 \n",
      " dense_5 (Dense)             (None, 2)                 66562     \n",
      "                                                                 \n",
      "=================================================================\n",
      "Total params: 330,754\n",
      "Trainable params: 330,754\n",
      "Non-trainable params: 0\n",
      "_________________________________________________________________\n"
     ]
    }
   ],
   "source": [
    "i_lstm = Input(shape=(X_train.shape[1], 1))\n",
    "\n",
    "x_lstm = LSTM(256, return_sequences=True)(i_lstm)\n",
    "x_lstm = Flatten()(x_lstm)\n",
    "y_lstm = Dense(2, activation='softmax')(x_lstm)\n",
    "\n",
    "model_lstm = Model(i_lstm, y_lstm)\n",
    "\n",
    "model_lstm.summary()"
   ]
  },
  {
   "cell_type": "code",
   "execution_count": 58,
   "id": "2ffceb4a",
   "metadata": {},
   "outputs": [
    {
     "name": "stdout",
     "output_type": "stream",
     "text": [
      "Epoch 1/50\n"
     ]
    },
    {
     "name": "stderr",
     "output_type": "stream",
     "text": [
      "2022-11-08 19:06:38.805575: I tensorflow/core/grappler/optimizers/custom_graph_optimizer_registry.cc:114] Plugin optimizer for device_type GPU is enabled.\n",
      "2022-11-08 19:06:38.885564: I tensorflow/core/grappler/optimizers/custom_graph_optimizer_registry.cc:114] Plugin optimizer for device_type GPU is enabled.\n",
      "2022-11-08 19:06:39.065362: I tensorflow/core/grappler/optimizers/custom_graph_optimizer_registry.cc:114] Plugin optimizer for device_type GPU is enabled.\n"
     ]
    },
    {
     "name": "stdout",
     "output_type": "stream",
     "text": [
      "11/11 [==============================] - ETA: 0s - loss: 1.2353 - accuracy: 0.4643"
     ]
    },
    {
     "name": "stderr",
     "output_type": "stream",
     "text": [
      "2022-11-08 19:06:40.373855: I tensorflow/core/grappler/optimizers/custom_graph_optimizer_registry.cc:114] Plugin optimizer for device_type GPU is enabled.\n",
      "2022-11-08 19:06:40.407455: I tensorflow/core/grappler/optimizers/custom_graph_optimizer_registry.cc:114] Plugin optimizer for device_type GPU is enabled.\n"
     ]
    },
    {
     "name": "stdout",
     "output_type": "stream",
     "text": [
      "\n",
      "Epoch 1: val_accuracy improved from -inf to 0.50000, saving model to ./best_lstm_model.h5_best_model.h5\n",
      "11/11 [==============================] - 3s 187ms/step - loss: 1.2353 - accuracy: 0.4643 - val_loss: 0.6969 - val_accuracy: 0.5000 - lr: 0.0010\n",
      "Epoch 2/50\n",
      "11/11 [==============================] - ETA: 0s - loss: 0.7090 - accuracy: 0.4821\n",
      "Epoch 2: val_accuracy did not improve from 0.50000\n",
      "11/11 [==============================] - 1s 109ms/step - loss: 0.7090 - accuracy: 0.4821 - val_loss: 0.6942 - val_accuracy: 0.5000 - lr: 9.0484e-04\n",
      "Epoch 3/50\n",
      "11/11 [==============================] - ETA: 0s - loss: 0.6931 - accuracy: 0.5119\n",
      "Epoch 3: val_accuracy did not improve from 0.50000\n",
      "11/11 [==============================] - 1s 107ms/step - loss: 0.6931 - accuracy: 0.5119 - val_loss: 0.7108 - val_accuracy: 0.5000 - lr: 8.1873e-04\n",
      "Epoch 4/50\n",
      "11/11 [==============================] - ETA: 0s - loss: 0.6489 - accuracy: 0.5744\n",
      "Epoch 4: val_accuracy improved from 0.50000 to 0.58734, saving model to ./best_lstm_model.h5_best_model.h5\n",
      "11/11 [==============================] - 1s 108ms/step - loss: 0.6489 - accuracy: 0.5744 - val_loss: 0.6699 - val_accuracy: 0.5873 - lr: 7.4082e-04\n",
      "Epoch 5/50\n",
      "11/11 [==============================] - ETA: 0s - loss: 0.6266 - accuracy: 0.6131\n",
      "Epoch 5: val_accuracy did not improve from 0.58734\n",
      "11/11 [==============================] - 1s 107ms/step - loss: 0.6266 - accuracy: 0.6131 - val_loss: 0.7141 - val_accuracy: 0.5312 - lr: 6.7032e-04\n",
      "Epoch 6/50\n",
      "11/11 [==============================] - ETA: 0s - loss: 0.6244 - accuracy: 0.6429\n",
      "Epoch 6: val_accuracy improved from 0.58734 to 0.61538, saving model to ./best_lstm_model.h5_best_model.h5\n",
      "11/11 [==============================] - 1s 108ms/step - loss: 0.6244 - accuracy: 0.6429 - val_loss: 0.6556 - val_accuracy: 0.6154 - lr: 6.0653e-04\n",
      "Epoch 7/50\n",
      "11/11 [==============================] - ETA: 0s - loss: 0.5834 - accuracy: 0.7917\n",
      "Epoch 7: val_accuracy improved from 0.61538 to 0.61779, saving model to ./best_lstm_model.h5_best_model.h5\n",
      "11/11 [==============================] - 1s 107ms/step - loss: 0.5834 - accuracy: 0.7917 - val_loss: 0.6501 - val_accuracy: 0.6178 - lr: 5.4881e-04\n",
      "Epoch 8/50\n",
      "11/11 [==============================] - ETA: 0s - loss: 0.5351 - accuracy: 0.8601\n",
      "Epoch 8: val_accuracy did not improve from 0.61779\n",
      "11/11 [==============================] - 1s 107ms/step - loss: 0.5351 - accuracy: 0.8601 - val_loss: 0.6580 - val_accuracy: 0.6010 - lr: 4.9659e-04\n",
      "Epoch 9/50\n",
      "11/11 [==============================] - ETA: 0s - loss: 0.4886 - accuracy: 0.8452\n",
      "Epoch 9: val_accuracy did not improve from 0.61779\n",
      "11/11 [==============================] - 1s 108ms/step - loss: 0.4886 - accuracy: 0.8452 - val_loss: 0.6671 - val_accuracy: 0.5938 - lr: 4.4933e-04\n",
      "Epoch 10/50\n",
      "11/11 [==============================] - ETA: 0s - loss: 0.4415 - accuracy: 0.8512\n",
      "Epoch 10: val_accuracy did not improve from 0.61779\n",
      "11/11 [==============================] - 1s 106ms/step - loss: 0.4415 - accuracy: 0.8512 - val_loss: 0.7005 - val_accuracy: 0.6170 - lr: 4.0657e-04\n",
      "Epoch 11/50\n",
      "11/11 [==============================] - ETA: 0s - loss: 0.4397 - accuracy: 0.8065\n",
      "Epoch 11: val_accuracy did not improve from 0.61779\n",
      "11/11 [==============================] - 1s 107ms/step - loss: 0.4397 - accuracy: 0.8065 - val_loss: 0.7417 - val_accuracy: 0.5946 - lr: 3.6788e-04\n",
      "Epoch 12/50\n",
      "11/11 [==============================] - ETA: 0s - loss: 0.3973 - accuracy: 0.8631\n",
      "Epoch 12: val_accuracy did not improve from 0.61779\n",
      "11/11 [==============================] - 1s 107ms/step - loss: 0.3973 - accuracy: 0.8631 - val_loss: 0.8313 - val_accuracy: 0.6010 - lr: 3.3287e-04\n",
      "Epoch 13/50\n",
      "11/11 [==============================] - ETA: 0s - loss: 0.3826 - accuracy: 0.8631\n",
      "Epoch 13: val_accuracy did not improve from 0.61779\n",
      "11/11 [==============================] - 1s 107ms/step - loss: 0.3826 - accuracy: 0.8631 - val_loss: 0.7609 - val_accuracy: 0.6106 - lr: 3.0119e-04\n",
      "Epoch 14/50\n",
      "11/11 [==============================] - ETA: 0s - loss: 0.3595 - accuracy: 0.8899\n",
      "Epoch 14: val_accuracy did not improve from 0.61779\n",
      "11/11 [==============================] - 1s 107ms/step - loss: 0.3595 - accuracy: 0.8899 - val_loss: 0.8456 - val_accuracy: 0.5986 - lr: 2.7253e-04\n",
      "Epoch 15/50\n",
      "11/11 [==============================] - ETA: 0s - loss: 0.3509 - accuracy: 0.8631\n",
      "Epoch 15: val_accuracy did not improve from 0.61779\n",
      "11/11 [==============================] - 1s 107ms/step - loss: 0.3509 - accuracy: 0.8631 - val_loss: 0.9896 - val_accuracy: 0.6026 - lr: 2.4660e-04\n",
      "Epoch 16/50\n",
      "11/11 [==============================] - ETA: 0s - loss: 0.3756 - accuracy: 0.8512\n",
      "Epoch 16: val_accuracy did not improve from 0.61779\n",
      "11/11 [==============================] - 1s 106ms/step - loss: 0.3756 - accuracy: 0.8512 - val_loss: 0.8991 - val_accuracy: 0.5986 - lr: 2.2313e-04\n",
      "Epoch 17/50\n",
      "11/11 [==============================] - ETA: 0s - loss: 0.3576 - accuracy: 0.8542\n",
      "Epoch 17: val_accuracy did not improve from 0.61779\n",
      "11/11 [==============================] - 1s 107ms/step - loss: 0.3576 - accuracy: 0.8542 - val_loss: 0.9911 - val_accuracy: 0.6002 - lr: 2.0190e-04\n",
      "Epoch 17: early stopping\n"
     ]
    }
   ],
   "source": [
    "lstm_model,lstm_history = train_model(model_lstm, X_train, y_train,X_test, y_test, save_to= './best_lstm_model.h5', epoch = 50)"
   ]
  },
  {
   "cell_type": "code",
   "execution_count": 59,
   "id": "0933da62",
   "metadata": {},
   "outputs": [
    {
     "data": {
      "image/png": "[encoded data removed]",
      "text/plain": [
       "<Figure size 432x288 with 1 Axes>"
      ]
     },
     "metadata": {
      "needs_background": "light"
     },
     "output_type": "display_data"
    },
    {
     "data": {
      "image/png": "[encoded data removed]",
      "text/plain": [
       "<Figure size 432x288 with 1 Axes>"
      ]
     },
     "metadata": {
      "needs_background": "light"
     },
     "output_type": "display_data"
    }
   ],
   "source": [
    "plot_model(lstm_history, 'LSTM')"
   ]
  },
  {
   "cell_type": "code",
   "execution_count": 60,
   "id": "d7b1a352",
   "metadata": {},
   "outputs": [
    {
     "name": "stdout",
     "output_type": "stream",
     "text": [
      "Test Accuracy: 60.016%\n"
     ]
    }
   ],
   "source": [
    "model_lstm_acc = model_lstm.evaluate(X_test, y_test, verbose=0)[1]\n",
    "print(\"Test Accuracy: {:.3f}%\".format(model_lstm_acc * 100))"
   ]
  },
  {
   "cell_type": "code",
   "execution_count": 66,
   "id": "76d47c6b",
   "metadata": {},
   "outputs": [
    {
     "name": "stdout",
     "output_type": "stream",
     "text": [
      "39/39 [==============================] - 1s 16ms/step\n"
     ]
    },
    {
     "data": {
      "image/png": "[encoded data removed]",
      "text/plain": [
       "<Figure size 576x576 with 1 Axes>"
      ]
     },
     "metadata": {
      "needs_background": "light"
     },
     "output_type": "display_data"
    },
    {
     "name": "stdout",
     "output_type": "stream",
     "text": [
      "Classification Report:\n",
      "----------------------\n",
      "               precision    recall  f1-score   support\n",
      "\n",
      "           0       0.69      0.36      0.47       624\n",
      "           1       0.57      0.84      0.68       624\n",
      "\n",
      "    accuracy                           0.60      1248\n",
      "   macro avg       0.63      0.60      0.58      1248\n",
      "weighted avg       0.63      0.60      0.58      1248\n",
      "\n"
     ]
    }
   ],
   "source": [
    "y_pred = np.array(list(map(lambda x: np.argmax(x), model_lstm.predict(X_test))))\n",
    "y_test = y_test.idxmax(axis=1)\n",
    "\n",
    "cm = confusion_matrix(y_test, y_pred)\n",
    "clr = classification_report(y_test, y_pred)\n",
    "\n",
    "plt.figure(figsize=(8, 8))\n",
    "sns.heatmap(cm, annot=True, vmin=0, fmt='g', cbar=False, cmap='Blues')\n",
    "plt.xlabel(\"Predicted\")\n",
    "plt.ylabel(\"Actual\")\n",
    "plt.title(\"Confusion Matrix\")\n",
    "plt.show()\n",
    "\n",
    "print(\"Classification Report:\\n----------------------\\n\", clr)"
   ]
  },
  {
   "cell_type": "markdown",
   "id": "f290175a",
   "metadata": {},
   "source": [
    "## DNN"
   ]
  },
  {
   "cell_type": "code",
   "execution_count": 67,
   "id": "c9e124fd",
   "metadata": {},
   "outputs": [],
   "source": [
    "X_train = StandardScaler().fit_transform(train_data_X)\n",
    "X_test = StandardScaler().fit_transform(test_data_X)\n",
    "\n",
    "y_train = pd.get_dummies(train_data_y)\n",
    "y_test = pd.get_dummies(test_data_y)"
   ]
  },
  {
   "cell_type": "code",
   "execution_count": 70,
   "id": "309d8edb",
   "metadata": {},
   "outputs": [
    {
     "data": {
      "text/plain": [
       "(336, 2)"
      ]
     },
     "execution_count": 70,
     "metadata": {},
     "output_type": "execute_result"
    }
   ],
   "source": [
    "y_train.shape"
   ]
  },
  {
   "cell_type": "code",
   "execution_count": null,
   "id": "add40640",
   "metadata": {},
   "outputs": [],
   "source": [
    "i_dnn = Input(shape=(130, ))\n",
    "\n",
    "x_dnn = Dense(2548, activation='relu')(i_dnn)\n",
    "x_dnn = BatchNormalization()(x_dnn)\n",
    "x_dnn = Dropout(0.25)(x_dnn)\n",
    "\n",
    "x_dnn = Dense(3822, activation='relu')(x_dnn)\n",
    "x_dnn = BatchNormalization()(x_dnn)\n",
    "x_dnn = Dropout(0.27)(x_dnn)\n",
    "\n",
    "x_dnn = Dense(5096, activation='relu')(x_dnn)\n",
    "x_dnn = BatchNormalization()(x_dnn)\n",
    "x_dnn = Dropout(0.3)(x_dnn)\n",
    "\n",
    "x_dnn = Dense(3822, activation='relu')(x_dnn)\n",
    "x_dnn = BatchNormalization()(x_dnn)\n",
    "x_dnn = Dropout(0.27)(x_dnn)\n",
    "\n",
    "x_dnn = Dense(2548, activation='relu')(x_dnn)\n",
    "x_dnn = BatchNormalization()(x_dnn)\n",
    "x_dnn = Dropout(0.25)(x_dnn)\n",
    "\n",
    "y_dnn = Dense(2, activation='softmax')(x_dnn)\n",
    "\n",
    "dnn_model = Model(i_dnn, y_dnn)\n",
    "\n",
    "dnn_model.summary()"
   ]
  }
 ],
 "metadata": {
  "kernelspec": {
   "display_name": "deeplearning",
   "language": "python",
   "name": "deeplearning"
  },
  "language_info": {
   "codemirror_mode": {
    "name": "ipython",
    "version": 3
   },
   "file_extension": ".py",
   "mimetype": "text/x-python",
   "name": "python",
   "nbconvert_exporter": "python",
   "pygments_lexer": "ipython3",
   "version": "3.8.13"
  }
 },
 "nbformat": 4,
 "nbformat_minor": 5
}
